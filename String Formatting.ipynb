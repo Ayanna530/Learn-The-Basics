{
 "cells": [
  {
   "cell_type": "code",
   "execution_count": 1,
   "id": "942441c1",
   "metadata": {},
   "outputs": [
    {
     "name": "stdout",
     "output_type": "stream",
     "text": [
      "Hello John Doe. Your current balance is $53.44.\n"
     ]
    }
   ],
   "source": [
    "#write a format string which prints out the data using the following syntax: Hello John Doe. Your current balance is $53.44.\n",
    "\n",
    "data = (\"John\", \"Doe\", 53.44)\n",
    "format_string = \"Hello %s %s. Your current balance is $%s.\"\n",
    "\n",
    "print(format_string % data)"
   ]
  },
  {
   "cell_type": "code",
   "execution_count": null,
   "id": "6277a584",
   "metadata": {},
   "outputs": [],
   "source": []
  }
 ],
 "metadata": {
  "kernelspec": {
   "display_name": "Python 3",
   "language": "python",
   "name": "python3"
  },
  "language_info": {
   "codemirror_mode": {
    "name": "ipython",
    "version": 3
   },
   "file_extension": ".py",
   "mimetype": "text/x-python",
   "name": "python",
   "nbconvert_exporter": "python",
   "pygments_lexer": "ipython3",
   "version": "3.6.15"
  }
 },
 "nbformat": 4,
 "nbformat_minor": 5
}
